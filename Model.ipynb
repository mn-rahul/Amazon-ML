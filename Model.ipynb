{
  "nbformat": 4,
  "nbformat_minor": 0,
  "metadata": {
    "colab": {
      "name": "Model.ipynb",
      "provenance": [],
      "mount_file_id": "1gkSaVzIhe94Gpa5ZNfd5biGYksku81Zy",
      "authorship_tag": "ABX9TyPs9IA/n/zuIxtooBzNJdq/",
      "include_colab_link": true
    },
    "kernelspec": {
      "name": "python3",
      "display_name": "Python 3"
    },
    "language_info": {
      "name": "python"
    }
  },
  "cells": [
    {
      "cell_type": "markdown",
      "metadata": {
        "id": "view-in-github",
        "colab_type": "text"
      },
      "source": [
        "<a href=\"https://colab.research.google.com/github/mn-rahul/Amazon-ML/blob/main/Model.ipynb\" target=\"_parent\"><img src=\"https://colab.research.google.com/assets/colab-badge.svg\" alt=\"Open In Colab\"/></a>"
      ]
    },
    {
      "cell_type": "code",
      "metadata": {
        "id": "6yxcvgd7swVU"
      },
      "source": [
        "import pandas as pd\n",
        "import numpy as np\n",
        "import csv"
      ],
      "execution_count": null,
      "outputs": []
    },
    {
      "cell_type": "code",
      "metadata": {
        "id": "wUHCUP7xtLwT"
      },
      "source": [
        "from pydrive.auth import GoogleAuth\n",
        "from pydrive.drive import GoogleDrive\n",
        "from google.colab import auth\n",
        "from oauth2client.client import GoogleCredentials\n",
        "auth.authenticate_user()\n",
        "gauth = GoogleAuth()\n",
        "gauth.credentials = GoogleCredentials.get_application_default()\n",
        "drive = GoogleDrive(gauth)"
      ],
      "execution_count": null,
      "outputs": []
    },
    {
      "cell_type": "code",
      "metadata": {
        "colab": {
          "base_uri": "https://localhost:8080/"
        },
        "id": "iv69IRCZtNmm",
        "outputId": "66ec492e-5960-4c60-a197-b5ced14c6ea3"
      },
      "source": [
        "train=pd.read_csv('/content/drive/My Drive/AmazonML/clean_train.csv',index_col=[0])"
      ],
      "execution_count": null,
      "outputs": [
        {
          "output_type": "stream",
          "text": [
            "/usr/local/lib/python3.7/dist-packages/numpy/lib/arraysetops.py:580: FutureWarning: elementwise comparison failed; returning scalar instead, but in the future will perform elementwise comparison\n",
            "  mask |= (ar1 == a)\n"
          ],
          "name": "stderr"
        }
      ]
    },
    {
      "cell_type": "code",
      "metadata": {
        "colab": {
          "base_uri": "https://localhost:8080/",
          "height": 204
        },
        "id": "NivNfBLMueDs",
        "outputId": "fd8a35ae-22bf-42c6-c221-fde3eab9c72a"
      },
      "source": [
        "# train.fillna('')\n",
        "# train.head()\n"
      ],
      "execution_count": null,
      "outputs": [
        {
          "output_type": "execute_result",
          "data": {
            "text/html": [
              "<div>\n",
              "<style scoped>\n",
              "    .dataframe tbody tr th:only-of-type {\n",
              "        vertical-align: middle;\n",
              "    }\n",
              "\n",
              "    .dataframe tbody tr th {\n",
              "        vertical-align: top;\n",
              "    }\n",
              "\n",
              "    .dataframe thead th {\n",
              "        text-align: right;\n",
              "    }\n",
              "</style>\n",
              "<table border=\"1\" class=\"dataframe\">\n",
              "  <thead>\n",
              "    <tr style=\"text-align: right;\">\n",
              "      <th></th>\n",
              "      <th>TITLE</th>\n",
              "      <th>DESCRIPTION</th>\n",
              "      <th>BULLET_POINTS</th>\n",
              "      <th>BRAND</th>\n",
              "      <th>BROWSE_NODE_ID</th>\n",
              "    </tr>\n",
              "  </thead>\n",
              "  <tbody>\n",
              "    <tr>\n",
              "      <th>0</th>\n",
              "      <td>['pete', 'cat', 'bedtim', 'blue', 'doll', '14'...</td>\n",
              "      <td>['pete', 'cat', 'coolest', 'popular', 'cat', '...</td>\n",
              "      <td>['pete', 'cat', 'bedtim', 'blue', 'plush', 'do...</td>\n",
              "      <td>['merrymak']</td>\n",
              "      <td>0</td>\n",
              "    </tr>\n",
              "    <tr>\n",
              "      <th>1</th>\n",
              "      <td>['new', 'yorker', 'nyhm014', 'refriger', 'magn...</td>\n",
              "      <td>['new', 'yorker', 'handsom', 'cello', 'wrap', ...</td>\n",
              "      <td>['cat', 'tea', 'cup', 'new', 'yorker', 'cover'...</td>\n",
              "      <td>['new', 'yorker']</td>\n",
              "      <td>1</td>\n",
              "    </tr>\n",
              "    <tr>\n",
              "      <th>2</th>\n",
              "      <td>['ultim', 'self', 'suffici', 'handbook', 'comp...</td>\n",
              "      <td>[]</td>\n",
              "      <td>['skyhors', 'publish']</td>\n",
              "      <td>['imusti']</td>\n",
              "      <td>2</td>\n",
              "    </tr>\n",
              "    <tr>\n",
              "      <th>3</th>\n",
              "      <td>['amway', 'nutrilit', 'kid', 'chewabl', 'iron'...</td>\n",
              "      <td>[]</td>\n",
              "      <td>['nutrilit', 'kid', 'chewabl', 'iron', 'tablet...</td>\n",
              "      <td>['amway']</td>\n",
              "      <td>3</td>\n",
              "    </tr>\n",
              "    <tr>\n",
              "      <th>4</th>\n",
              "      <td>['teacher', 'planner', 'compani', 'a4', '6', '...</td>\n",
              "      <td>[]</td>\n",
              "      <td>[]</td>\n",
              "      <td>[]</td>\n",
              "      <td>4</td>\n",
              "    </tr>\n",
              "  </tbody>\n",
              "</table>\n",
              "</div>"
            ],
            "text/plain": [
              "                                               TITLE  ... BROWSE_NODE_ID\n",
              "0  ['pete', 'cat', 'bedtim', 'blue', 'doll', '14'...  ...              0\n",
              "1  ['new', 'yorker', 'nyhm014', 'refriger', 'magn...  ...              1\n",
              "2  ['ultim', 'self', 'suffici', 'handbook', 'comp...  ...              2\n",
              "3  ['amway', 'nutrilit', 'kid', 'chewabl', 'iron'...  ...              3\n",
              "4  ['teacher', 'planner', 'compani', 'a4', '6', '...  ...              4\n",
              "\n",
              "[5 rows x 5 columns]"
            ]
          },
          "metadata": {
            "tags": []
          },
          "execution_count": 4
        }
      ]
    },
    {
      "cell_type": "code",
      "metadata": {
        "colab": {
          "base_uri": "https://localhost:8080/"
        },
        "id": "Jy_1Xo4AJQuY",
        "outputId": "81c7d3c3-4526-40a8-bae4-c0196ed1d77d"
      },
      "source": [
        "train['TITLE']"
      ],
      "execution_count": null,
      "outputs": [
        {
          "output_type": "execute_result",
          "data": {
            "text/plain": [
              "0          ['pete', 'cat', 'bedtim', 'blue', 'doll', '14'...\n",
              "1          ['new', 'yorker', 'nyhm014', 'refriger', 'magn...\n",
              "2          ['ultim', 'self', 'suffici', 'handbook', 'comp...\n",
              "3          ['amway', 'nutrilit', 'kid', 'chewabl', 'iron'...\n",
              "4          ['teacher', 'planner', 'compani', 'a4', '6', '...\n",
              "                                 ...                        \n",
              "2903019    ['premium', 'aviat', 'sunglass', 'hd', 'polar'...\n",
              "2903020    ['social', 'distanc', 'sticker', 'set', '5', '...\n",
              "2903021    ['torr', 'face', 'shield', 'pack', '5', 'adjus...\n",
              "2903022    ['type', 'c', '3', '5', 'mm', 'oppo', 'r17', '...\n",
              "2903023             ['kng', 'orang', 'polo', 'tshirt', '38']\n",
              "Name: TITLE, Length: 2903024, dtype: object"
            ]
          },
          "metadata": {
            "tags": []
          },
          "execution_count": 5
        }
      ]
    },
    {
      "cell_type": "code",
      "metadata": {
        "colab": {
          "base_uri": "https://localhost:8080/"
        },
        "id": "yE7O1Opguk3J",
        "outputId": "04b41c45-2dc1-4da3-e2eb-46d94139bba2"
      },
      "source": [
        "train.shape"
      ],
      "execution_count": null,
      "outputs": [
        {
          "output_type": "execute_result",
          "data": {
            "text/plain": [
              "(2903024, 5)"
            ]
          },
          "metadata": {
            "tags": []
          },
          "execution_count": 4
        }
      ]
    },
    {
      "cell_type": "code",
      "metadata": {
        "id": "nbQuX3zCtt67"
      },
      "source": [
        "test=pd.read_csv('/content/drive/My Drive/AmazonML/clean_test.csv',index_col=[0])\n"
      ],
      "execution_count": null,
      "outputs": []
    },
    {
      "cell_type": "code",
      "metadata": {
        "colab": {
          "base_uri": "https://localhost:8080/",
          "height": 419
        },
        "id": "eGdXATyfyiEn",
        "outputId": "2ac01ab6-fe04-4d47-88f5-029757ffeaf4"
      },
      "source": [
        "test"
      ],
      "execution_count": null,
      "outputs": [
        {
          "output_type": "execute_result",
          "data": {
            "text/html": [
              "<div>\n",
              "<style scoped>\n",
              "    .dataframe tbody tr th:only-of-type {\n",
              "        vertical-align: middle;\n",
              "    }\n",
              "\n",
              "    .dataframe tbody tr th {\n",
              "        vertical-align: top;\n",
              "    }\n",
              "\n",
              "    .dataframe thead th {\n",
              "        text-align: right;\n",
              "    }\n",
              "</style>\n",
              "<table border=\"1\" class=\"dataframe\">\n",
              "  <thead>\n",
              "    <tr style=\"text-align: right;\">\n",
              "      <th></th>\n",
              "      <th>TITLE</th>\n",
              "      <th>DESCRIPTION</th>\n",
              "      <th>BULLET_POINTS</th>\n",
              "      <th>BRAND</th>\n",
              "    </tr>\n",
              "  </thead>\n",
              "  <tbody>\n",
              "    <tr>\n",
              "      <th>0</th>\n",
              "      <td>command 3m small kitchen hook white decor dama...</td>\n",
              "      <td>sale unit pack</td>\n",
              "      <td>includ 9 hook 12 small indoor strip 1 hook hol...</td>\n",
              "      <td>command</td>\n",
              "    </tr>\n",
              "    <tr>\n",
              "      <th>1</th>\n",
              "      <td>neal jump hardwar jag unisex adult glove black...</td>\n",
              "      <td>synthet leather palm doubl layer thumb reinfor...</td>\n",
              "      <td>silicon print better grip long last flexibl ma...</td>\n",
              "      <td>neal</td>\n",
              "    </tr>\n",
              "    <tr>\n",
              "      <th>2</th>\n",
              "      <td>nfl detroit lion portabl parti fridg 15 8 quart</td>\n",
              "      <td>boelter brand let celebr favorit pop cultur ph...</td>\n",
              "      <td>run 12 volt dc power 110 volt ac power plug ho...</td>\n",
              "      <td>boelter brand</td>\n",
              "    </tr>\n",
              "    <tr>\n",
              "      <th>3</th>\n",
              "      <td>panason singl line kx ts880mx cord phone white</td>\n",
              "      <td>featur 50 station phonebook cord phone alphanu...</td>\n",
              "      <td>panason landlin phone come manufactur seal pho...</td>\n",
              "      <td>panason</td>\n",
              "    </tr>\n",
              "    <tr>\n",
              "      <th>4</th>\n",
              "      <td>zero babi girl 100 cotton innerwear bloomer dr...</td>\n",
              "      <td>zero babi girl panti set 100 cotton breathabl ...</td>\n",
              "      <td>zero babi girl panti pack 6 100 cotton babi gi...</td>\n",
              "      <td>zero</td>\n",
              "    </tr>\n",
              "    <tr>\n",
              "      <th>...</th>\n",
              "      <td>...</td>\n",
              "      <td>...</td>\n",
              "      <td>...</td>\n",
              "      <td>...</td>\n",
              "    </tr>\n",
              "    <tr>\n",
              "      <th>110770</th>\n",
              "      <td>aahna e mall oneblad hybrid trimmer shaver edg...</td>\n",
              "      <td>p 1 one hyper advanc smart recharg razor preci...</td>\n",
              "      <td>uniqu one blade style trim shave keep skin fee...</td>\n",
              "      <td>gener</td>\n",
              "    </tr>\n",
              "    <tr>\n",
              "      <th>110771</th>\n",
              "      <td>grin health n99 anti pollut reusabl washabl ma...</td>\n",
              "      <td>p size guid 35 65 kg l 49 72 kg xl 75 kg p p b...</td>\n",
              "      <td>protect filtrat rate 99 percent small pm0 3 us...</td>\n",
              "      <td>grin health</td>\n",
              "    </tr>\n",
              "    <tr>\n",
              "      <th>110772</th>\n",
              "      <td>asian armi pink ultra reusabl respir cloth mas...</td>\n",
              "      <td>asian hyperprotect a95 mask engin 6 layer trip...</td>\n",
              "      <td>reusabl environ friendli mask washabl reusabl ...</td>\n",
              "      <td>asian</td>\n",
              "    </tr>\n",
              "    <tr>\n",
              "      <th>110773</th>\n",
              "      <td>im safe 3 pli non woven dispos surgic face mas...</td>\n",
              "      <td>3 pli dispos face mask manufactur use sitra ce...</td>\n",
              "      <td>3 pli mask genuin 3 pli mask 25 gsm spun bond ...</td>\n",
              "      <td>intermarket</td>\n",
              "    </tr>\n",
              "    <tr>\n",
              "      <th>110774</th>\n",
              "      <td>artifi 100 cotton unisex reusabl breathabl was...</td>\n",
              "      <td>materi cotton print cotton thread soft stretch...</td>\n",
              "      <td>eco friendli reusabl cotton mask face ajrak co...</td>\n",
              "      <td>artifi</td>\n",
              "    </tr>\n",
              "  </tbody>\n",
              "</table>\n",
              "<p>110775 rows × 4 columns</p>\n",
              "</div>"
            ],
            "text/plain": [
              "                                                    TITLE  ...          BRAND\n",
              "0       command 3m small kitchen hook white decor dama...  ...        command\n",
              "1       neal jump hardwar jag unisex adult glove black...  ...           neal\n",
              "2         nfl detroit lion portabl parti fridg 15 8 quart  ...  boelter brand\n",
              "3          panason singl line kx ts880mx cord phone white  ...        panason\n",
              "4       zero babi girl 100 cotton innerwear bloomer dr...  ...           zero\n",
              "...                                                   ...  ...            ...\n",
              "110770  aahna e mall oneblad hybrid trimmer shaver edg...  ...          gener\n",
              "110771  grin health n99 anti pollut reusabl washabl ma...  ...    grin health\n",
              "110772  asian armi pink ultra reusabl respir cloth mas...  ...          asian\n",
              "110773  im safe 3 pli non woven dispos surgic face mas...  ...    intermarket\n",
              "110774  artifi 100 cotton unisex reusabl breathabl was...  ...         artifi\n",
              "\n",
              "[110775 rows x 4 columns]"
            ]
          },
          "metadata": {
            "tags": []
          },
          "execution_count": 8
        }
      ]
    },
    {
      "cell_type": "code",
      "metadata": {
        "colab": {
          "base_uri": "https://localhost:8080/",
          "height": 501
        },
        "id": "MM4Qk9YuuYAz",
        "outputId": "0c537fc6-16dc-4152-ee08-24e541e1860f"
      },
      "source": [
        "temp=pd.read_csv('/content/drive/My Drive/AmazonML/test.csv',escapechar='\\\\',quoting = csv.QUOTE_NONE,index_col=[0]) \n",
        "temp"
      ],
      "execution_count": null,
      "outputs": [
        {
          "output_type": "execute_result",
          "data": {
            "text/html": [
              "<div>\n",
              "<style scoped>\n",
              "    .dataframe tbody tr th:only-of-type {\n",
              "        vertical-align: middle;\n",
              "    }\n",
              "\n",
              "    .dataframe tbody tr th {\n",
              "        vertical-align: top;\n",
              "    }\n",
              "\n",
              "    .dataframe thead th {\n",
              "        text-align: right;\n",
              "    }\n",
              "</style>\n",
              "<table border=\"1\" class=\"dataframe\">\n",
              "  <thead>\n",
              "    <tr style=\"text-align: right;\">\n",
              "      <th></th>\n",
              "      <th>TITLE</th>\n",
              "      <th>DESCRIPTION</th>\n",
              "      <th>BULLET_POINTS</th>\n",
              "      <th>BRAND</th>\n",
              "    </tr>\n",
              "    <tr>\n",
              "      <th>PRODUCT_ID</th>\n",
              "      <th></th>\n",
              "      <th></th>\n",
              "      <th></th>\n",
              "      <th></th>\n",
              "    </tr>\n",
              "  </thead>\n",
              "  <tbody>\n",
              "    <tr>\n",
              "      <th>1</th>\n",
              "      <td>Command 3M Small Kitchen Hooks, White, Decorat...</td>\n",
              "      <td>Sale Unit: PACK</td>\n",
              "      <td>[INCLUDES - 9 hooks and 12 small indoor strips...</td>\n",
              "      <td>Command</td>\n",
              "    </tr>\n",
              "    <tr>\n",
              "      <th>2</th>\n",
              "      <td>O'Neal Jump Hardware JAG Unisex-Adult Glove (B...</td>\n",
              "      <td>Synthetic leather palm with double-layer thumb...</td>\n",
              "      <td>[Silicone printing for a better grip. Long las...</td>\n",
              "      <td>O'Neal</td>\n",
              "    </tr>\n",
              "    <tr>\n",
              "      <th>3</th>\n",
              "      <td>NFL Detroit Lions Portable Party Fridge, 15.8 ...</td>\n",
              "      <td>Boelter Brands lets you celebrate your favorit...</td>\n",
              "      <td>[Runs on 12 Volt DC Power or 110 Volt AC Power...</td>\n",
              "      <td>Boelter Brands</td>\n",
              "    </tr>\n",
              "    <tr>\n",
              "      <th>4</th>\n",
              "      <td>Panasonic Single Line KX-TS880MX Corded Phone ...</td>\n",
              "      <td>Features: 50 Station Phonebook Corded Phone Al...</td>\n",
              "      <td>Panasonic Landline Phones doesn't come with a ...</td>\n",
              "      <td>Panasonic</td>\n",
              "    </tr>\n",
              "    <tr>\n",
              "      <th>5</th>\n",
              "      <td>Zero Baby Girl's 100% Cotton Innerwear Bloomer...</td>\n",
              "      <td>Zero Baby Girl Panties Set. 100% Cotton, Breat...</td>\n",
              "      <td>[Zero Baby Girl Panties, Pack of 6, 100% Cotto...</td>\n",
              "      <td>Zero</td>\n",
              "    </tr>\n",
              "    <tr>\n",
              "      <th>...</th>\n",
              "      <td>...</td>\n",
              "      <td>...</td>\n",
              "      <td>...</td>\n",
              "      <td>...</td>\n",
              "    </tr>\n",
              "    <tr>\n",
              "      <th>110771</th>\n",
              "      <td>AAHNA E MALL OneBlade Hybrid Trimmer Shaver An...</td>\n",
              "      <td>&lt;p&gt;1-All In One Hyper Advanced Smart Rechargea...</td>\n",
              "      <td>[Unique One Blade can style, trim and shave, w...</td>\n",
              "      <td>Generic</td>\n",
              "    </tr>\n",
              "    <tr>\n",
              "      <th>110772</th>\n",
              "      <td>Grin Health N99 Anti Pollution Reusable Washab...</td>\n",
              "      <td>&lt;p&gt;SIZE GUIDE : M - (35- 65 Kg), L - (49- 72 K...</td>\n",
              "      <td>[PROTECTION: Filtration rate up to ≥99 percent...</td>\n",
              "      <td>Grin Health</td>\n",
              "    </tr>\n",
              "    <tr>\n",
              "      <th>110773</th>\n",
              "      <td>Asian Army Pink Ultra reusable respirator clot...</td>\n",
              "      <td>Asian HyperProtect A95 masks have been enginee...</td>\n",
              "      <td>[Reusable and environment friendly: These mask...</td>\n",
              "      <td>ASIAN</td>\n",
              "    </tr>\n",
              "    <tr>\n",
              "      <th>110774</th>\n",
              "      <td>IM Safe 3 Ply Non-Woven Disposable Surgical Fa...</td>\n",
              "      <td>This 3 Ply Disposable face mask is manufacture...</td>\n",
              "      <td>[3 Ply Mask: Genuine 3 Ply Mask. 25 GSM Spun B...</td>\n",
              "      <td>Intermarket</td>\n",
              "    </tr>\n",
              "    <tr>\n",
              "      <th>110775</th>\n",
              "      <td>Artifie 100% Cotton Unisex Reusable Breathable...</td>\n",
              "      <td>Material : Cotton Printed, cotton thread, Soft...</td>\n",
              "      <td>[Eco Friendly, Reusable Cotton Masks for Face ...</td>\n",
              "      <td>Artifie</td>\n",
              "    </tr>\n",
              "  </tbody>\n",
              "</table>\n",
              "<p>110775 rows × 4 columns</p>\n",
              "</div>"
            ],
            "text/plain": [
              "                                                        TITLE  ...           BRAND\n",
              "PRODUCT_ID                                                     ...                \n",
              "1           Command 3M Small Kitchen Hooks, White, Decorat...  ...         Command\n",
              "2           O'Neal Jump Hardware JAG Unisex-Adult Glove (B...  ...          O'Neal\n",
              "3           NFL Detroit Lions Portable Party Fridge, 15.8 ...  ...  Boelter Brands\n",
              "4           Panasonic Single Line KX-TS880MX Corded Phone ...  ...       Panasonic\n",
              "5           Zero Baby Girl's 100% Cotton Innerwear Bloomer...  ...            Zero\n",
              "...                                                       ...  ...             ...\n",
              "110771      AAHNA E MALL OneBlade Hybrid Trimmer Shaver An...  ...         Generic\n",
              "110772      Grin Health N99 Anti Pollution Reusable Washab...  ...     Grin Health\n",
              "110773      Asian Army Pink Ultra reusable respirator clot...  ...           ASIAN\n",
              "110774      IM Safe 3 Ply Non-Woven Disposable Surgical Fa...  ...     Intermarket\n",
              "110775      Artifie 100% Cotton Unisex Reusable Breathable...  ...         Artifie\n",
              "\n",
              "[110775 rows x 4 columns]"
            ]
          },
          "metadata": {
            "tags": []
          },
          "execution_count": 9
        }
      ]
    },
    {
      "cell_type": "code",
      "metadata": {
        "id": "HSTLBdID4VAv"
      },
      "source": [
        "X = train[['TITLE','DESCRIPTION','BULLET_POINTS','BRAND']]\n",
        "#X=np.transpose(X)\n",
        "y=train[['BROWSE_NODE_ID']]"
      ],
      "execution_count": null,
      "outputs": []
    },
    {
      "cell_type": "code",
      "metadata": {
        "id": "D0SZ-pv7LmRw"
      },
      "source": [
        "X=X.sum(axis=1)"
      ],
      "execution_count": null,
      "outputs": []
    },
    {
      "cell_type": "code",
      "metadata": {
        "colab": {
          "base_uri": "https://localhost:8080/"
        },
        "id": "9_7PVcpSHBWJ",
        "outputId": "531d5441-f6b5-4f87-82b9-be50afd9381f"
      },
      "source": [
        "X.shape,y.shape"
      ],
      "execution_count": null,
      "outputs": [
        {
          "output_type": "execute_result",
          "data": {
            "text/plain": [
              "((2903024,), (2903024, 1))"
            ]
          },
          "metadata": {
            "tags": []
          },
          "execution_count": 7
        }
      ]
    },
    {
      "cell_type": "code",
      "metadata": {
        "colab": {
          "base_uri": "https://localhost:8080/",
          "height": 163
        },
        "id": "160hifIxUcvY",
        "outputId": "e941b2aa-866f-4150-c41c-fb6b4423a7ac"
      },
      "source": [
        "# X = X.values.reshape(X.shape[1:])"
      ],
      "execution_count": null,
      "outputs": [
        {
          "output_type": "error",
          "ename": "ValueError",
          "evalue": "ignored",
          "traceback": [
            "\u001b[0;31m---------------------------------------------------------------------------\u001b[0m",
            "\u001b[0;31mValueError\u001b[0m                                Traceback (most recent call last)",
            "\u001b[0;32m<ipython-input-15-a320a909f051>\u001b[0m in \u001b[0;36m<module>\u001b[0;34m()\u001b[0m\n\u001b[0;32m----> 1\u001b[0;31m \u001b[0mX\u001b[0m \u001b[0;34m=\u001b[0m \u001b[0mX\u001b[0m\u001b[0;34m.\u001b[0m\u001b[0mvalues\u001b[0m\u001b[0;34m.\u001b[0m\u001b[0mreshape\u001b[0m\u001b[0;34m(\u001b[0m\u001b[0mX\u001b[0m\u001b[0;34m.\u001b[0m\u001b[0mshape\u001b[0m\u001b[0;34m[\u001b[0m\u001b[0;36m1\u001b[0m\u001b[0;34m:\u001b[0m\u001b[0;34m]\u001b[0m\u001b[0;34m)\u001b[0m\u001b[0;34m\u001b[0m\u001b[0;34m\u001b[0m\u001b[0m\n\u001b[0m",
            "\u001b[0;31mValueError\u001b[0m: cannot reshape array of size 2903024 into shape ()"
          ]
        }
      ]
    },
    {
      "cell_type": "code",
      "metadata": {
        "colab": {
          "base_uri": "https://localhost:8080/",
          "height": 419
        },
        "id": "eOXhMZKoT0xX",
        "outputId": "ccf65fb2-0a22-4fcf-d549-02b680bbec77"
      },
      "source": [
        "y"
      ],
      "execution_count": null,
      "outputs": [
        {
          "output_type": "execute_result",
          "data": {
            "text/html": [
              "<div>\n",
              "<style scoped>\n",
              "    .dataframe tbody tr th:only-of-type {\n",
              "        vertical-align: middle;\n",
              "    }\n",
              "\n",
              "    .dataframe tbody tr th {\n",
              "        vertical-align: top;\n",
              "    }\n",
              "\n",
              "    .dataframe thead th {\n",
              "        text-align: right;\n",
              "    }\n",
              "</style>\n",
              "<table border=\"1\" class=\"dataframe\">\n",
              "  <thead>\n",
              "    <tr style=\"text-align: right;\">\n",
              "      <th></th>\n",
              "      <th>BROWSE_NODE_ID</th>\n",
              "    </tr>\n",
              "  </thead>\n",
              "  <tbody>\n",
              "    <tr>\n",
              "      <th>0</th>\n",
              "      <td>0</td>\n",
              "    </tr>\n",
              "    <tr>\n",
              "      <th>1</th>\n",
              "      <td>1</td>\n",
              "    </tr>\n",
              "    <tr>\n",
              "      <th>2</th>\n",
              "      <td>2</td>\n",
              "    </tr>\n",
              "    <tr>\n",
              "      <th>3</th>\n",
              "      <td>3</td>\n",
              "    </tr>\n",
              "    <tr>\n",
              "      <th>4</th>\n",
              "      <td>4</td>\n",
              "    </tr>\n",
              "    <tr>\n",
              "      <th>...</th>\n",
              "      <td>...</td>\n",
              "    </tr>\n",
              "    <tr>\n",
              "      <th>2903019</th>\n",
              "      <td>1040</td>\n",
              "    </tr>\n",
              "    <tr>\n",
              "      <th>2903020</th>\n",
              "      <td>15199</td>\n",
              "    </tr>\n",
              "    <tr>\n",
              "      <th>2903021</th>\n",
              "      <td>1044933</td>\n",
              "    </tr>\n",
              "    <tr>\n",
              "      <th>2903022</th>\n",
              "      <td>14790</td>\n",
              "    </tr>\n",
              "    <tr>\n",
              "      <th>2903023</th>\n",
              "      <td>1213</td>\n",
              "    </tr>\n",
              "  </tbody>\n",
              "</table>\n",
              "<p>2903024 rows × 1 columns</p>\n",
              "</div>"
            ],
            "text/plain": [
              "         BROWSE_NODE_ID\n",
              "0                     0\n",
              "1                     1\n",
              "2                     2\n",
              "3                     3\n",
              "4                     4\n",
              "...                 ...\n",
              "2903019            1040\n",
              "2903020           15199\n",
              "2903021         1044933\n",
              "2903022           14790\n",
              "2903023            1213\n",
              "\n",
              "[2903024 rows x 1 columns]"
            ]
          },
          "metadata": {
            "tags": []
          },
          "execution_count": 16
        }
      ]
    },
    {
      "cell_type": "code",
      "metadata": {
        "id": "Kzz3ncYQ4fcl"
      },
      "source": [
        "y.shape"
      ],
      "execution_count": null,
      "outputs": []
    },
    {
      "cell_type": "code",
      "metadata": {
        "id": "48SXjk_K08lc"
      },
      "source": [
        "y.nunique()"
      ],
      "execution_count": null,
      "outputs": []
    },
    {
      "cell_type": "code",
      "metadata": {
        "id": "a5a_xbRJ4pdg"
      },
      "source": [
        "from sklearn.model_selection import train_test_split\n",
        "X_train, X_test, y_train, y_test = train_test_split(X, y, test_size=0.5, random_state=2)"
      ],
      "execution_count": null,
      "outputs": []
    },
    {
      "cell_type": "code",
      "metadata": {
        "colab": {
          "base_uri": "https://localhost:8080/"
        },
        "id": "7EJbDuG7HLm3",
        "outputId": "f30c1ab8-d999-4d97-a12c-3dfed510545a"
      },
      "source": [
        "print(X_train.shape,y_train.shape,X_test.shape,y_test.shape)"
      ],
      "execution_count": null,
      "outputs": [
        {
          "output_type": "stream",
          "text": [
            "(1451512,) (1451512, 1) (1451512,) (1451512, 1)\n"
          ],
          "name": "stdout"
        }
      ]
    },
    {
      "cell_type": "code",
      "metadata": {
        "colab": {
          "base_uri": "https://localhost:8080/",
          "height": 231
        },
        "id": "fAJCpdRGHWxb",
        "outputId": "13f37178-99b4-4d2c-a9f7-a26b72b6b7a3"
      },
      "source": [
        "from sklearn.model_selection import train_test_split\n",
        "from sklearn.feature_extraction.text import CountVectorizer\n",
        "from sklearn.feature_extraction.text import TfidfTransformer\n",
        "from sklearn.naive_bayes import MultinomialNB\n",
        "\n",
        "count_vect = CountVectorizer()\n",
        "X_train_counts = count_vect.fit_transform(X_train)\n",
        "tfidf_transformer = TfidfTransformer()\n",
        "X_train_tfidf = tfidf_transformer.fit_transform(X_train_counts)\n",
        "\n",
        "clf = MultinomialNB().fit(X_train_tfidf, y_train)"
      ],
      "execution_count": null,
      "outputs": [
        {
          "output_type": "error",
          "ename": "NameError",
          "evalue": "ignored",
          "traceback": [
            "\u001b[0;31m---------------------------------------------------------------------------\u001b[0m",
            "\u001b[0;31mNameError\u001b[0m                                 Traceback (most recent call last)",
            "\u001b[0;32m<ipython-input-2-96f1b4ce47fe>\u001b[0m in \u001b[0;36m<module>\u001b[0;34m()\u001b[0m\n\u001b[1;32m      5\u001b[0m \u001b[0;34m\u001b[0m\u001b[0m\n\u001b[1;32m      6\u001b[0m \u001b[0mcount_vect\u001b[0m \u001b[0;34m=\u001b[0m \u001b[0mCountVectorizer\u001b[0m\u001b[0;34m(\u001b[0m\u001b[0;34m)\u001b[0m\u001b[0;34m\u001b[0m\u001b[0;34m\u001b[0m\u001b[0m\n\u001b[0;32m----> 7\u001b[0;31m \u001b[0mX_train_counts\u001b[0m \u001b[0;34m=\u001b[0m \u001b[0mcount_vect\u001b[0m\u001b[0;34m.\u001b[0m\u001b[0mfit_transform\u001b[0m\u001b[0;34m(\u001b[0m\u001b[0mX_train\u001b[0m\u001b[0;34m)\u001b[0m\u001b[0;34m\u001b[0m\u001b[0;34m\u001b[0m\u001b[0m\n\u001b[0m\u001b[1;32m      8\u001b[0m \u001b[0mtfidf_transformer\u001b[0m \u001b[0;34m=\u001b[0m \u001b[0mTfidfTransformer\u001b[0m\u001b[0;34m(\u001b[0m\u001b[0;34m)\u001b[0m\u001b[0;34m\u001b[0m\u001b[0;34m\u001b[0m\u001b[0m\n\u001b[1;32m      9\u001b[0m \u001b[0mX_train_tfidf\u001b[0m \u001b[0;34m=\u001b[0m \u001b[0mtfidf_transformer\u001b[0m\u001b[0;34m.\u001b[0m\u001b[0mfit_transform\u001b[0m\u001b[0;34m(\u001b[0m\u001b[0mX_train_counts\u001b[0m\u001b[0;34m)\u001b[0m\u001b[0;34m\u001b[0m\u001b[0;34m\u001b[0m\u001b[0m\n",
            "\u001b[0;31mNameError\u001b[0m: name 'X_train' is not defined"
          ]
        }
      ]
    },
    {
      "cell_type": "code",
      "metadata": {
        "colab": {
          "base_uri": "https://localhost:8080/",
          "height": 163
        },
        "id": "1X61QQY1UUa_",
        "outputId": "d28550fb-39a5-4141-8594-2a0d41410c35"
      },
      "source": [
        "ypred= clf.predict(X_test)"
      ],
      "execution_count": null,
      "outputs": [
        {
          "output_type": "error",
          "ename": "NameError",
          "evalue": "ignored",
          "traceback": [
            "\u001b[0;31m---------------------------------------------------------------------------\u001b[0m",
            "\u001b[0;31mNameError\u001b[0m                                 Traceback (most recent call last)",
            "\u001b[0;32m<ipython-input-1-8987348a6689>\u001b[0m in \u001b[0;36m<module>\u001b[0;34m()\u001b[0m\n\u001b[0;32m----> 1\u001b[0;31m \u001b[0mypred\u001b[0m\u001b[0;34m=\u001b[0m \u001b[0mclf\u001b[0m\u001b[0;34m.\u001b[0m\u001b[0mpredict\u001b[0m\u001b[0;34m(\u001b[0m\u001b[0mX_test\u001b[0m\u001b[0;34m)\u001b[0m\u001b[0;34m\u001b[0m\u001b[0;34m\u001b[0m\u001b[0m\n\u001b[0m",
            "\u001b[0;31mNameError\u001b[0m: name 'clf' is not defined"
          ]
        }
      ]
    },
    {
      "cell_type": "code",
      "metadata": {
        "id": "LnE8ioOB4zgI"
      },
      "source": [
        "# from keras.preprocessing.text import Tokenizer\n",
        "# tokenizer = Tokenizer(num_words=5000)\n",
        "# tokenizer.fit_on_texts(X_train)\n",
        "\n",
        "# X_train = tokenizer.texts_to_sequences(X_train)\n",
        "# X_test = tokenizer.texts_to_sequences(X_test)"
      ],
      "execution_count": null,
      "outputs": []
    },
    {
      "cell_type": "code",
      "metadata": {
        "id": "BhjnpfXm54xo"
      },
      "source": [
        "# from keras.preprocessing.sequence import pad_sequences\n",
        "# vocab_size = len(tokenizer.word_index) + 1\n",
        "\n",
        "# maxlen = 200\n",
        "\n",
        "# X_train = pad_sequences(X_train, padding='post', maxlen=maxlen)\n",
        "# X_test = pad_sequences(X_test, padding='post', maxlen=maxlen)\n",
        "# X_train = np.transpose(X_train)\n",
        "# X_test= np.transpose(X_test)"
      ],
      "execution_count": null,
      "outputs": []
    },
    {
      "cell_type": "code",
      "metadata": {
        "id": "jW3Flpqf6OcQ"
      },
      "source": [
        "# #GloVe Embedding \n",
        "# from numpy import array\n",
        "# from numpy import asarray\n",
        "# from numpy import zeros\n",
        "\n",
        "# embeddings_dictionary = dict()\n",
        "\n",
        "# def loadGloveModel(File):\n",
        "#     print(\"Loading Glove Model\")\n",
        "#     f = open(File,'r')\n",
        "#     gloveModel = {}\n",
        "#     for line in f:\n",
        "#         splitLines = line.split()\n",
        "#         word = splitLines[0]\n",
        "#         wordEmbedding = np.array([float(value) for value in splitLines[1:]])\n",
        "#         gloveModel[word] = wordEmbedding\n",
        "#     print(len(gloveModel),\" words loaded!\")\n",
        "#     return gloveModel"
      ],
      "execution_count": null,
      "outputs": []
    },
    {
      "cell_type": "code",
      "metadata": {
        "id": "fRSOwKJk6tt4"
      },
      "source": [
        "# embedding_matrix = zeros((vocab_size, 100))\n",
        "# for word, index in tokenizer.word_index.items():\n",
        "#     embedding_vector = embeddings_dictionary.get(word)\n",
        "#     if embedding_vector is not None:\n",
        "#         embedding_matrix[index] = embedding_vector"
      ],
      "execution_count": null,
      "outputs": []
    },
    {
      "cell_type": "code",
      "metadata": {
        "id": "woiM4Wet7CNm"
      },
      "source": [
        "# from keras.models import Sequential\n",
        "# from keras.layers import Dense, Embedding, LSTM\n",
        "# from keras.layers import Bidirectional\n",
        "# from tensorflow.keras.layers import Dropout"
      ],
      "execution_count": null,
      "outputs": []
    },
    {
      "cell_type": "code",
      "metadata": {
        "id": "uDniui50CnO4"
      },
      "source": [
        "# n_features = X_train.shape[1]\n",
        "# n_features"
      ],
      "execution_count": null,
      "outputs": []
    },
    {
      "cell_type": "code",
      "metadata": {
        "id": "fGXqKaDp7EyN"
      },
      "source": [
        "#  #bidirectional\n",
        "# embed_dim = 128\n",
        "# lstm_out = 200\n",
        "# batch_size = 32\n",
        "    \n",
        "# model = Sequential()\n",
        "# model.add(Embedding(2500, embed_dim,input_length = X.shape[1]))\n",
        "# model.add(Dropout(0.2))\n",
        "# model.add(Bidirectional((LSTM(lstm_out))))\n",
        "# model.add(Dense(2,activation='softmax'))\n",
        "# model.compile(loss = 'categorical_crossentropy', optimizer='adam',metrics = ['accuracy'])\n",
        "# print(model.summary())"
      ],
      "execution_count": null,
      "outputs": []
    },
    {
      "cell_type": "code",
      "metadata": {
        "id": "Pq8yXuLh-ymt"
      },
      "source": [
        "# X.shape"
      ],
      "execution_count": null,
      "outputs": []
    },
    {
      "cell_type": "code",
      "metadata": {
        "id": "RcKWap6D-1Y9"
      },
      "source": [
        "# y.shape"
      ],
      "execution_count": null,
      "outputs": []
    },
    {
      "cell_type": "code",
      "metadata": {
        "id": "DtRmws7c71eP"
      },
      "source": [
        "#  model.fit(X_train, y_train, batch_size =batch_size, epochs = 100,  verbose = 5)"
      ],
      "execution_count": null,
      "outputs": []
    },
    {
      "cell_type": "code",
      "metadata": {
        "id": "rbENwJA79uob"
      },
      "source": [
        ""
      ],
      "execution_count": null,
      "outputs": []
    }
  ]
}