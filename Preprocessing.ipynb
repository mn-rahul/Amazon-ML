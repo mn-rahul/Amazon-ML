{
  "nbformat": 4,
  "nbformat_minor": 0,
  "metadata": {
    "colab": {
      "name": "Preprocessing.ipynb",
      "provenance": [],
      "collapsed_sections": [],
      "mount_file_id": "1V8gUcAI8ftia-HpsP6LqIt2bfQKgKWiu",
      "authorship_tag": "ABX9TyNqp91fC6E9pN0Plz9VQnCh",
      "include_colab_link": true
    },
    "kernelspec": {
      "name": "python3",
      "display_name": "Python 3"
    },
    "language_info": {
      "name": "python"
    }
  },
  "cells": [
    {
      "cell_type": "markdown",
      "metadata": {
        "id": "view-in-github",
        "colab_type": "text"
      },
      "source": [
        "<a href=\"https://colab.research.google.com/github/mn-rahul/Amazon-ML/blob/main/Preprocessing.ipynb\" target=\"_parent\"><img src=\"https://colab.research.google.com/assets/colab-badge.svg\" alt=\"Open In Colab\"/></a>"
      ]
    },
    {
      "cell_type": "code",
      "metadata": {
        "colab": {
          "base_uri": "https://localhost:8080/"
        },
        "id": "LZoib24njFrh",
        "outputId": "27b5c417-f25c-4db6-f373-8e3151c26c08"
      },
      "source": [
        "import pandas as pd\n",
        "import numpy as np\n",
        "import csv\n",
        "import matplotlib.pyplot as plt\n",
        "import seaborn as sns\n",
        "import re\n",
        "import nltk\n",
        "nltk.download('wordnet') "
      ],
      "execution_count": 1,
      "outputs": [
        {
          "output_type": "stream",
          "text": [
            "[nltk_data] Downloading package wordnet to /root/nltk_data...\n",
            "[nltk_data]   Package wordnet is already up-to-date!\n"
          ],
          "name": "stdout"
        },
        {
          "output_type": "execute_result",
          "data": {
            "text/plain": [
              "True"
            ]
          },
          "metadata": {
            "tags": []
          },
          "execution_count": 1
        }
      ]
    },
    {
      "cell_type": "code",
      "metadata": {
        "id": "zQmTJ8-cjLXa"
      },
      "source": [
        "from pydrive.auth import GoogleAuth\n",
        "from pydrive.drive import GoogleDrive\n",
        "from google.colab import auth\n",
        "from oauth2client.client import GoogleCredentials\n",
        "auth.authenticate_user()\n",
        "gauth = GoogleAuth()\n",
        "gauth.credentials = GoogleCredentials.get_application_default()\n",
        "drive = GoogleDrive(gauth)"
      ],
      "execution_count": 2,
      "outputs": []
    },
    {
      "cell_type": "code",
      "metadata": {
        "id": "dQKiRjh1jOBB"
      },
      "source": [
        "df = pd.read_csv('/content/drive/My Drive/AmazonML/train.csv',escapechar='\\\\',quoting = csv.QUOTE_NONE)"
      ],
      "execution_count": 3,
      "outputs": []
    },
    {
      "cell_type": "code",
      "metadata": {
        "id": "GgHnt3UMjVZB"
      },
      "source": [
        "test=pd.read_csv('/content/drive/MyDrive/AmazonML/test.csv',escapechar='\\\\',quoting = csv.QUOTE_NONE)"
      ],
      "execution_count": 4,
      "outputs": []
    },
    {
      "cell_type": "code",
      "metadata": {
        "colab": {
          "base_uri": "https://localhost:8080/"
        },
        "id": "bCA1Nh5kjfmH",
        "outputId": "0a94945c-3abf-4ec2-dba9-45d0533698db"
      },
      "source": [
        "df.isna().sum() \n"
      ],
      "execution_count": 5,
      "outputs": [
        {
          "output_type": "execute_result",
          "data": {
            "text/plain": [
              "TITLE                 71\n",
              "DESCRIPTION       723664\n",
              "BULLET_POINTS     166263\n",
              "BRAND              56737\n",
              "BROWSE_NODE_ID         0\n",
              "dtype: int64"
            ]
          },
          "metadata": {
            "tags": []
          },
          "execution_count": 5
        }
      ]
    },
    {
      "cell_type": "code",
      "metadata": {
        "colab": {
          "base_uri": "https://localhost:8080/"
        },
        "id": "DCbD1c3_joZo",
        "outputId": "943b420a-50e1-4213-c2de-5ece00248506"
      },
      "source": [
        "dna=df.dropna(axis=0)\n",
        "dna.isna().sum()"
      ],
      "execution_count": 6,
      "outputs": [
        {
          "output_type": "execute_result",
          "data": {
            "text/plain": [
              "TITLE             0\n",
              "DESCRIPTION       0\n",
              "BULLET_POINTS     0\n",
              "BRAND             0\n",
              "BROWSE_NODE_ID    0\n",
              "dtype: int64"
            ]
          },
          "metadata": {
            "tags": []
          },
          "execution_count": 6
        }
      ]
    },
    {
      "cell_type": "code",
      "metadata": {
        "colab": {
          "base_uri": "https://localhost:8080/"
        },
        "id": "4XkaRPe2jvgU",
        "outputId": "756561ec-da86-422c-ad03-9b13667f3e20"
      },
      "source": [
        "dna['BROWSE_NODE_ID'].nunique()"
      ],
      "execution_count": 7,
      "outputs": [
        {
          "output_type": "execute_result",
          "data": {
            "text/plain": [
              "9636"
            ]
          },
          "metadata": {
            "tags": []
          },
          "execution_count": 7
        }
      ]
    },
    {
      "cell_type": "code",
      "metadata": {
        "colab": {
          "base_uri": "https://localhost:8080/"
        },
        "id": "_l10MAHdj02q",
        "outputId": "739dd74a-a46f-4d23-8224-166878e2d4ac"
      },
      "source": [
        "import re\n",
        "import nltk\n",
        "from nltk.tokenize import word_tokenize\n",
        "nltk.download('stopwords')\n",
        "nltk.download('punkt')\n",
        "from nltk.corpus import stopwords\n",
        "from nltk.stem import PorterStemmer\n",
        "sw=set(stopwords.words('english'))\n",
        "st=PorterStemmer()\n",
        "def clean_dat(dt):\n",
        "  dt = re.sub('[^a-zA-Z0-9]',' ',dt)\n",
        "  dt = str(dt).lower()\n",
        "  dt = word_tokenize(dt)\n",
        "  dt = [x for x in dt if x not in sw]\n",
        "  #dt = [i for i in dt if len(i)>2]\n",
        "  dt = [st.stem(i) for i in dt]\n",
        "  dt = ' '.join(dt)\n",
        "  return dt \n",
        "\n"
      ],
      "execution_count": 8,
      "outputs": [
        {
          "output_type": "stream",
          "text": [
            "[nltk_data] Downloading package stopwords to /root/nltk_data...\n",
            "[nltk_data]   Package stopwords is already up-to-date!\n",
            "[nltk_data] Downloading package punkt to /root/nltk_data...\n",
            "[nltk_data]   Package punkt is already up-to-date!\n"
          ],
          "name": "stdout"
        }
      ]
    },
    {
      "cell_type": "code",
      "metadata": {
        "id": "-iG9XZOplrpz"
      },
      "source": [
        "# dna['TITLE'] = dna['TITLE'].apply(clean_dat)\n",
        "# dna['DESCRIPTION'] = dna['DESCRIPTION'].apply(clean_dat)\n",
        "# dna['BULLET_POINTS'] = dna['BULLET_POINTS'].apply(clean_dat)\n",
        "# dna['BRAND'] = dna['BRAND'].apply(clean_dat)"
      ],
      "execution_count": null,
      "outputs": []
    },
    {
      "cell_type": "code",
      "metadata": {
        "colab": {
          "base_uri": "https://localhost:8080/",
          "height": 640
        },
        "id": "-dJXQNS__kKg",
        "outputId": "2ff62b3d-66ff-4396-eaf2-7c139e90af14"
      },
      "source": [
        "dna"
      ],
      "execution_count": 10,
      "outputs": [
        {
          "output_type": "execute_result",
          "data": {
            "text/html": [
              "<div>\n",
              "<style scoped>\n",
              "    .dataframe tbody tr th:only-of-type {\n",
              "        vertical-align: middle;\n",
              "    }\n",
              "\n",
              "    .dataframe tbody tr th {\n",
              "        vertical-align: top;\n",
              "    }\n",
              "\n",
              "    .dataframe thead th {\n",
              "        text-align: right;\n",
              "    }\n",
              "</style>\n",
              "<table border=\"1\" class=\"dataframe\">\n",
              "  <thead>\n",
              "    <tr style=\"text-align: right;\">\n",
              "      <th></th>\n",
              "      <th>TITLE</th>\n",
              "      <th>DESCRIPTION</th>\n",
              "      <th>BULLET_POINTS</th>\n",
              "      <th>BRAND</th>\n",
              "      <th>BROWSE_NODE_ID</th>\n",
              "    </tr>\n",
              "  </thead>\n",
              "  <tbody>\n",
              "    <tr>\n",
              "      <th>0</th>\n",
              "      <td>Pete The Cat Bedtime Blues Doll, 14.5 Inch</td>\n",
              "      <td>Pete the Cat is the coolest, most popular cat ...</td>\n",
              "      <td>[Pete the Cat Bedtime Blues plush doll,Based o...</td>\n",
              "      <td>MerryMakers</td>\n",
              "      <td>0</td>\n",
              "    </tr>\n",
              "    <tr>\n",
              "      <th>1</th>\n",
              "      <td>The New Yorker NYHM014 Refrigerator Magnet, 2 ...</td>\n",
              "      <td>The New Yorker Handsome Cello Wrapped Hard Mag...</td>\n",
              "      <td>[Cat In A Tea Cup by New Yorker cover artist G...</td>\n",
              "      <td>The New Yorker</td>\n",
              "      <td>1</td>\n",
              "    </tr>\n",
              "    <tr>\n",
              "      <th>5</th>\n",
              "      <td>Men'S Full Sleeve Raglan T-Shirts Denim T-Shir...</td>\n",
              "      <td>Men'S Full Sleeve Raglan T-Shirts Denim T-Shir...</td>\n",
              "      <td>[Color: Blue,Sleeve: Full Sleeve,Material: Cot...</td>\n",
              "      <td>Bhavya Enterprise</td>\n",
              "      <td>5</td>\n",
              "    </tr>\n",
              "    <tr>\n",
              "      <th>6</th>\n",
              "      <td>Glance Women's Wallet (Black) (LW-21)</td>\n",
              "      <td>This Black wallet by Glance will be a treasure...</td>\n",
              "      <td>[The Most Comfortable Women's Wallet That You ...</td>\n",
              "      <td>Glance</td>\n",
              "      <td>6</td>\n",
              "    </tr>\n",
              "    <tr>\n",
              "      <th>7</th>\n",
              "      <td>Wild Animals Hungry Brain Educational Flash Ca...</td>\n",
              "      <td>Wild Animals are the animals that mostly stays...</td>\n",
              "      <td>[Playful learning: Flash cards develops the lo...</td>\n",
              "      <td>hungry brain</td>\n",
              "      <td>7</td>\n",
              "    </tr>\n",
              "    <tr>\n",
              "      <th>...</th>\n",
              "      <td>...</td>\n",
              "      <td>...</td>\n",
              "      <td>...</td>\n",
              "      <td>...</td>\n",
              "      <td>...</td>\n",
              "    </tr>\n",
              "    <tr>\n",
              "      <th>2903018</th>\n",
              "      <td>The NXT LVL Liquid Silicone Soft Back Cover Ca...</td>\n",
              "      <td>Product color may slightly vary due to photogr...</td>\n",
              "      <td>[Liquid silicone case compatible with apple pr...</td>\n",
              "      <td>Generic</td>\n",
              "      <td>794481</td>\n",
              "    </tr>\n",
              "    <tr>\n",
              "      <th>2903019</th>\n",
              "      <td>Premium Aviator Sunglasses - HD Polarized (Bri...</td>\n",
              "      <td>These premium Aviator Sunglasses with 5 color ...</td>\n",
              "      <td>[Frame size: Lens height - 56mm, Lens width - ...</td>\n",
              "      <td>Generic</td>\n",
              "      <td>1040</td>\n",
              "    </tr>\n",
              "    <tr>\n",
              "      <th>2903020</th>\n",
              "      <td>Social Distance Stickers - Set of 5 Sticker Sl...</td>\n",
              "      <td>set of 5 prints social distancing sticker self...</td>\n",
              "      <td>[covid19 safety sticker - set of 5 to maintain...</td>\n",
              "      <td>Generic</td>\n",
              "      <td>15199</td>\n",
              "    </tr>\n",
              "    <tr>\n",
              "      <th>2903021</th>\n",
              "      <td>Torr-to Face Shield PACK OF 5 with Adjustable ...</td>\n",
              "      <td>* COMPLETE FACE PROTECTION: Torr-to Face Shiel...</td>\n",
              "      <td>[350 MICRONS PACK OF 5 PCS,COMPLETE FACE PROTE...</td>\n",
              "      <td>TORR-TO</td>\n",
              "      <td>1044933</td>\n",
              "    </tr>\n",
              "    <tr>\n",
              "      <th>2903022</th>\n",
              "      <td>Type-C to 3.5 MM for Oppo R17 Pro Type-C to 3....</td>\n",
              "      <td>Still want to use your favorite earphones/head...</td>\n",
              "      <td>[Indian Connectors: Made for Indian sockets, t...</td>\n",
              "      <td>SHOPBELL</td>\n",
              "      <td>14790</td>\n",
              "    </tr>\n",
              "  </tbody>\n",
              "</table>\n",
              "<p>2110586 rows × 5 columns</p>\n",
              "</div>"
            ],
            "text/plain": [
              "                                                     TITLE  ... BROWSE_NODE_ID\n",
              "0               Pete The Cat Bedtime Blues Doll, 14.5 Inch  ...              0\n",
              "1        The New Yorker NYHM014 Refrigerator Magnet, 2 ...  ...              1\n",
              "5        Men'S Full Sleeve Raglan T-Shirts Denim T-Shir...  ...              5\n",
              "6                    Glance Women's Wallet (Black) (LW-21)  ...              6\n",
              "7        Wild Animals Hungry Brain Educational Flash Ca...  ...              7\n",
              "...                                                    ...  ...            ...\n",
              "2903018  The NXT LVL Liquid Silicone Soft Back Cover Ca...  ...         794481\n",
              "2903019  Premium Aviator Sunglasses - HD Polarized (Bri...  ...           1040\n",
              "2903020  Social Distance Stickers - Set of 5 Sticker Sl...  ...          15199\n",
              "2903021  Torr-to Face Shield PACK OF 5 with Adjustable ...  ...        1044933\n",
              "2903022  Type-C to 3.5 MM for Oppo R17 Pro Type-C to 3....  ...          14790\n",
              "\n",
              "[2110586 rows x 5 columns]"
            ]
          },
          "metadata": {
            "tags": []
          },
          "execution_count": 10
        }
      ]
    },
    {
      "cell_type": "code",
      "metadata": {
        "id": "_gngECUWxp7A"
      },
      "source": [
        "# dna.to_csv('clean1ncsv')\n",
        "# from google.colab import files\n",
        "# files.download('clean1n.csv')"
      ],
      "execution_count": 11,
      "outputs": []
    },
    {
      "cell_type": "code",
      "metadata": {
        "id": "Afg_4soyl8vn",
        "colab": {
          "base_uri": "https://localhost:8080/"
        },
        "outputId": "ce2059a2-7565-426e-9352-11f357f17e06"
      },
      "source": [
        "test.isna().sum()"
      ],
      "execution_count": 12,
      "outputs": [
        {
          "output_type": "execute_result",
          "data": {
            "text/plain": [
              "PRODUCT_ID           0\n",
              "TITLE                7\n",
              "DESCRIPTION      10469\n",
              "BULLET_POINTS     6786\n",
              "BRAND             2430\n",
              "dtype: int64"
            ]
          },
          "metadata": {
            "tags": []
          },
          "execution_count": 12
        }
      ]
    },
    {
      "cell_type": "code",
      "metadata": {
        "colab": {
          "base_uri": "https://localhost:8080/",
          "height": 289
        },
        "id": "37mjhNILF3la",
        "outputId": "4825bbad-bb5d-4d6f-cf56-2570be0658e9"
      },
      "source": [
        "test.head()"
      ],
      "execution_count": 13,
      "outputs": [
        {
          "output_type": "execute_result",
          "data": {
            "text/html": [
              "<div>\n",
              "<style scoped>\n",
              "    .dataframe tbody tr th:only-of-type {\n",
              "        vertical-align: middle;\n",
              "    }\n",
              "\n",
              "    .dataframe tbody tr th {\n",
              "        vertical-align: top;\n",
              "    }\n",
              "\n",
              "    .dataframe thead th {\n",
              "        text-align: right;\n",
              "    }\n",
              "</style>\n",
              "<table border=\"1\" class=\"dataframe\">\n",
              "  <thead>\n",
              "    <tr style=\"text-align: right;\">\n",
              "      <th></th>\n",
              "      <th>PRODUCT_ID</th>\n",
              "      <th>TITLE</th>\n",
              "      <th>DESCRIPTION</th>\n",
              "      <th>BULLET_POINTS</th>\n",
              "      <th>BRAND</th>\n",
              "    </tr>\n",
              "  </thead>\n",
              "  <tbody>\n",
              "    <tr>\n",
              "      <th>0</th>\n",
              "      <td>1</td>\n",
              "      <td>Command 3M Small Kitchen Hooks, White, Decorat...</td>\n",
              "      <td>Sale Unit: PACK</td>\n",
              "      <td>[INCLUDES - 9 hooks and 12 small indoor strips...</td>\n",
              "      <td>Command</td>\n",
              "    </tr>\n",
              "    <tr>\n",
              "      <th>1</th>\n",
              "      <td>2</td>\n",
              "      <td>O'Neal Jump Hardware JAG Unisex-Adult Glove (B...</td>\n",
              "      <td>Synthetic leather palm with double-layer thumb...</td>\n",
              "      <td>[Silicone printing for a better grip. Long las...</td>\n",
              "      <td>O'Neal</td>\n",
              "    </tr>\n",
              "    <tr>\n",
              "      <th>2</th>\n",
              "      <td>3</td>\n",
              "      <td>NFL Detroit Lions Portable Party Fridge, 15.8 ...</td>\n",
              "      <td>Boelter Brands lets you celebrate your favorit...</td>\n",
              "      <td>[Runs on 12 Volt DC Power or 110 Volt AC Power...</td>\n",
              "      <td>Boelter Brands</td>\n",
              "    </tr>\n",
              "    <tr>\n",
              "      <th>3</th>\n",
              "      <td>4</td>\n",
              "      <td>Panasonic Single Line KX-TS880MX Corded Phone ...</td>\n",
              "      <td>Features: 50 Station Phonebook Corded Phone Al...</td>\n",
              "      <td>Panasonic Landline Phones doesn't come with a ...</td>\n",
              "      <td>Panasonic</td>\n",
              "    </tr>\n",
              "    <tr>\n",
              "      <th>4</th>\n",
              "      <td>5</td>\n",
              "      <td>Zero Baby Girl's 100% Cotton Innerwear Bloomer...</td>\n",
              "      <td>Zero Baby Girl Panties Set. 100% Cotton, Breat...</td>\n",
              "      <td>[Zero Baby Girl Panties, Pack of 6, 100% Cotto...</td>\n",
              "      <td>Zero</td>\n",
              "    </tr>\n",
              "  </tbody>\n",
              "</table>\n",
              "</div>"
            ],
            "text/plain": [
              "   PRODUCT_ID  ...           BRAND\n",
              "0           1  ...         Command\n",
              "1           2  ...          O'Neal\n",
              "2           3  ...  Boelter Brands\n",
              "3           4  ...       Panasonic\n",
              "4           5  ...            Zero\n",
              "\n",
              "[5 rows x 5 columns]"
            ]
          },
          "metadata": {
            "tags": []
          },
          "execution_count": 13
        }
      ]
    },
    {
      "cell_type": "code",
      "metadata": {
        "id": "RE27bt2QGaeF"
      },
      "source": [
        "ID = test['PRODUCT_ID']"
      ],
      "execution_count": 14,
      "outputs": []
    },
    {
      "cell_type": "code",
      "metadata": {
        "colab": {
          "base_uri": "https://localhost:8080/",
          "height": 589
        },
        "id": "KnqLchWGGfOK",
        "outputId": "a9fb66c9-e3b6-4839-c46f-f6823a10772a"
      },
      "source": [
        "test.drop(['PRODUCT_ID'],axis=1)"
      ],
      "execution_count": 15,
      "outputs": [
        {
          "output_type": "execute_result",
          "data": {
            "text/html": [
              "<div>\n",
              "<style scoped>\n",
              "    .dataframe tbody tr th:only-of-type {\n",
              "        vertical-align: middle;\n",
              "    }\n",
              "\n",
              "    .dataframe tbody tr th {\n",
              "        vertical-align: top;\n",
              "    }\n",
              "\n",
              "    .dataframe thead th {\n",
              "        text-align: right;\n",
              "    }\n",
              "</style>\n",
              "<table border=\"1\" class=\"dataframe\">\n",
              "  <thead>\n",
              "    <tr style=\"text-align: right;\">\n",
              "      <th></th>\n",
              "      <th>TITLE</th>\n",
              "      <th>DESCRIPTION</th>\n",
              "      <th>BULLET_POINTS</th>\n",
              "      <th>BRAND</th>\n",
              "    </tr>\n",
              "  </thead>\n",
              "  <tbody>\n",
              "    <tr>\n",
              "      <th>0</th>\n",
              "      <td>Command 3M Small Kitchen Hooks, White, Decorat...</td>\n",
              "      <td>Sale Unit: PACK</td>\n",
              "      <td>[INCLUDES - 9 hooks and 12 small indoor strips...</td>\n",
              "      <td>Command</td>\n",
              "    </tr>\n",
              "    <tr>\n",
              "      <th>1</th>\n",
              "      <td>O'Neal Jump Hardware JAG Unisex-Adult Glove (B...</td>\n",
              "      <td>Synthetic leather palm with double-layer thumb...</td>\n",
              "      <td>[Silicone printing for a better grip. Long las...</td>\n",
              "      <td>O'Neal</td>\n",
              "    </tr>\n",
              "    <tr>\n",
              "      <th>2</th>\n",
              "      <td>NFL Detroit Lions Portable Party Fridge, 15.8 ...</td>\n",
              "      <td>Boelter Brands lets you celebrate your favorit...</td>\n",
              "      <td>[Runs on 12 Volt DC Power or 110 Volt AC Power...</td>\n",
              "      <td>Boelter Brands</td>\n",
              "    </tr>\n",
              "    <tr>\n",
              "      <th>3</th>\n",
              "      <td>Panasonic Single Line KX-TS880MX Corded Phone ...</td>\n",
              "      <td>Features: 50 Station Phonebook Corded Phone Al...</td>\n",
              "      <td>Panasonic Landline Phones doesn't come with a ...</td>\n",
              "      <td>Panasonic</td>\n",
              "    </tr>\n",
              "    <tr>\n",
              "      <th>4</th>\n",
              "      <td>Zero Baby Girl's 100% Cotton Innerwear Bloomer...</td>\n",
              "      <td>Zero Baby Girl Panties Set. 100% Cotton, Breat...</td>\n",
              "      <td>[Zero Baby Girl Panties, Pack of 6, 100% Cotto...</td>\n",
              "      <td>Zero</td>\n",
              "    </tr>\n",
              "    <tr>\n",
              "      <th>...</th>\n",
              "      <td>...</td>\n",
              "      <td>...</td>\n",
              "      <td>...</td>\n",
              "      <td>...</td>\n",
              "    </tr>\n",
              "    <tr>\n",
              "      <th>110770</th>\n",
              "      <td>AAHNA E MALL OneBlade Hybrid Trimmer Shaver An...</td>\n",
              "      <td>&lt;p&gt;1-All In One Hyper Advanced Smart Rechargea...</td>\n",
              "      <td>[Unique One Blade can style, trim and shave, w...</td>\n",
              "      <td>Generic</td>\n",
              "    </tr>\n",
              "    <tr>\n",
              "      <th>110771</th>\n",
              "      <td>Grin Health N99 Anti Pollution Reusable Washab...</td>\n",
              "      <td>&lt;p&gt;SIZE GUIDE : M - (35- 65 Kg), L - (49- 72 K...</td>\n",
              "      <td>[PROTECTION: Filtration rate up to ≥99 percent...</td>\n",
              "      <td>Grin Health</td>\n",
              "    </tr>\n",
              "    <tr>\n",
              "      <th>110772</th>\n",
              "      <td>Asian Army Pink Ultra reusable respirator clot...</td>\n",
              "      <td>Asian HyperProtect A95 masks have been enginee...</td>\n",
              "      <td>[Reusable and environment friendly: These mask...</td>\n",
              "      <td>ASIAN</td>\n",
              "    </tr>\n",
              "    <tr>\n",
              "      <th>110773</th>\n",
              "      <td>IM Safe 3 Ply Non-Woven Disposable Surgical Fa...</td>\n",
              "      <td>This 3 Ply Disposable face mask is manufacture...</td>\n",
              "      <td>[3 Ply Mask: Genuine 3 Ply Mask. 25 GSM Spun B...</td>\n",
              "      <td>Intermarket</td>\n",
              "    </tr>\n",
              "    <tr>\n",
              "      <th>110774</th>\n",
              "      <td>Artifie 100% Cotton Unisex Reusable Breathable...</td>\n",
              "      <td>Material : Cotton Printed, cotton thread, Soft...</td>\n",
              "      <td>[Eco Friendly, Reusable Cotton Masks for Face ...</td>\n",
              "      <td>Artifie</td>\n",
              "    </tr>\n",
              "  </tbody>\n",
              "</table>\n",
              "<p>110775 rows × 4 columns</p>\n",
              "</div>"
            ],
            "text/plain": [
              "                                                    TITLE  ...           BRAND\n",
              "0       Command 3M Small Kitchen Hooks, White, Decorat...  ...         Command\n",
              "1       O'Neal Jump Hardware JAG Unisex-Adult Glove (B...  ...          O'Neal\n",
              "2       NFL Detroit Lions Portable Party Fridge, 15.8 ...  ...  Boelter Brands\n",
              "3       Panasonic Single Line KX-TS880MX Corded Phone ...  ...       Panasonic\n",
              "4       Zero Baby Girl's 100% Cotton Innerwear Bloomer...  ...            Zero\n",
              "...                                                   ...  ...             ...\n",
              "110770  AAHNA E MALL OneBlade Hybrid Trimmer Shaver An...  ...         Generic\n",
              "110771  Grin Health N99 Anti Pollution Reusable Washab...  ...     Grin Health\n",
              "110772  Asian Army Pink Ultra reusable respirator clot...  ...           ASIAN\n",
              "110773  IM Safe 3 Ply Non-Woven Disposable Surgical Fa...  ...     Intermarket\n",
              "110774  Artifie 100% Cotton Unisex Reusable Breathable...  ...         Artifie\n",
              "\n",
              "[110775 rows x 4 columns]"
            ]
          },
          "metadata": {
            "tags": []
          },
          "execution_count": 15
        }
      ]
    },
    {
      "cell_type": "code",
      "metadata": {
        "colab": {
          "base_uri": "https://localhost:8080/"
        },
        "id": "eJzt3BAGGks2",
        "outputId": "236a406c-1dad-4e96-9366-d509a141aca1"
      },
      "source": [
        "test.shape"
      ],
      "execution_count": 16,
      "outputs": [
        {
          "output_type": "execute_result",
          "data": {
            "text/plain": [
              "(110775, 5)"
            ]
          },
          "metadata": {
            "tags": []
          },
          "execution_count": 16
        }
      ]
    },
    {
      "cell_type": "code",
      "metadata": {
        "colab": {
          "base_uri": "https://localhost:8080/"
        },
        "id": "-6eREAvKGtIA",
        "outputId": "6931f994-2028-4260-e6b4-3a273cdba8e7"
      },
      "source": [
        "dna.shape\n"
      ],
      "execution_count": 17,
      "outputs": [
        {
          "output_type": "execute_result",
          "data": {
            "text/plain": [
              "(2110586, 5)"
            ]
          },
          "metadata": {
            "tags": []
          },
          "execution_count": 17
        }
      ]
    },
    {
      "cell_type": "code",
      "metadata": {
        "colab": {
          "base_uri": "https://localhost:8080/"
        },
        "id": "_ewGVYt2Hk21",
        "outputId": "5c582d2d-ffe9-49e6-ece4-0c4f48605eb6"
      },
      "source": [
        "test = test.fillna('')\n",
        "test.isna().sum()"
      ],
      "execution_count": 18,
      "outputs": [
        {
          "output_type": "execute_result",
          "data": {
            "text/plain": [
              "PRODUCT_ID       0\n",
              "TITLE            0\n",
              "DESCRIPTION      0\n",
              "BULLET_POINTS    0\n",
              "BRAND            0\n",
              "dtype: int64"
            ]
          },
          "metadata": {
            "tags": []
          },
          "execution_count": 18
        }
      ]
    },
    {
      "cell_type": "code",
      "metadata": {
        "id": "agXakOlEGu7x"
      },
      "source": [
        "test['TITLE'] = test['TITLE'].apply(clean_dat)\n",
        "test['DESCRIPTION'] = test['DESCRIPTION'].apply(clean_dat)\n",
        "test['BULLET_POINTS'] = test['BULLET_POINTS'].apply(clean_dat)\n",
        "test['BRAND'] = test['BRAND'].apply(clean_dat)"
      ],
      "execution_count": 19,
      "outputs": []
    },
    {
      "cell_type": "code",
      "metadata": {
        "id": "LTDwBzDXImNb"
      },
      "source": [
        "test = test.drop(['PRODUCT_ID'],axis=1)"
      ],
      "execution_count": 21,
      "outputs": []
    },
    {
      "cell_type": "code",
      "metadata": {
        "colab": {
          "base_uri": "https://localhost:8080/",
          "height": 589
        },
        "id": "bstNC8AIHI0z",
        "outputId": "af8d28a3-28c2-402f-ce38-0f20ce22af42"
      },
      "source": [
        "test"
      ],
      "execution_count": 22,
      "outputs": [
        {
          "output_type": "execute_result",
          "data": {
            "text/html": [
              "<div>\n",
              "<style scoped>\n",
              "    .dataframe tbody tr th:only-of-type {\n",
              "        vertical-align: middle;\n",
              "    }\n",
              "\n",
              "    .dataframe tbody tr th {\n",
              "        vertical-align: top;\n",
              "    }\n",
              "\n",
              "    .dataframe thead th {\n",
              "        text-align: right;\n",
              "    }\n",
              "</style>\n",
              "<table border=\"1\" class=\"dataframe\">\n",
              "  <thead>\n",
              "    <tr style=\"text-align: right;\">\n",
              "      <th></th>\n",
              "      <th>TITLE</th>\n",
              "      <th>DESCRIPTION</th>\n",
              "      <th>BULLET_POINTS</th>\n",
              "      <th>BRAND</th>\n",
              "    </tr>\n",
              "  </thead>\n",
              "  <tbody>\n",
              "    <tr>\n",
              "      <th>0</th>\n",
              "      <td>command 3m small kitchen hook white decor dama...</td>\n",
              "      <td>sale unit pack</td>\n",
              "      <td>includ 9 hook 12 small indoor strip 1 hook hol...</td>\n",
              "      <td>command</td>\n",
              "    </tr>\n",
              "    <tr>\n",
              "      <th>1</th>\n",
              "      <td>neal jump hardwar jag unisex adult glove black...</td>\n",
              "      <td>synthet leather palm doubl layer thumb reinfor...</td>\n",
              "      <td>silicon print better grip long last flexibl ma...</td>\n",
              "      <td>neal</td>\n",
              "    </tr>\n",
              "    <tr>\n",
              "      <th>2</th>\n",
              "      <td>nfl detroit lion portabl parti fridg 15 8 quart</td>\n",
              "      <td>boelter brand let celebr favorit pop cultur ph...</td>\n",
              "      <td>run 12 volt dc power 110 volt ac power plug ho...</td>\n",
              "      <td>boelter brand</td>\n",
              "    </tr>\n",
              "    <tr>\n",
              "      <th>3</th>\n",
              "      <td>panason singl line kx ts880mx cord phone white</td>\n",
              "      <td>featur 50 station phonebook cord phone alphanu...</td>\n",
              "      <td>panason landlin phone come manufactur seal pho...</td>\n",
              "      <td>panason</td>\n",
              "    </tr>\n",
              "    <tr>\n",
              "      <th>4</th>\n",
              "      <td>zero babi girl 100 cotton innerwear bloomer dr...</td>\n",
              "      <td>zero babi girl panti set 100 cotton breathabl ...</td>\n",
              "      <td>zero babi girl panti pack 6 100 cotton babi gi...</td>\n",
              "      <td>zero</td>\n",
              "    </tr>\n",
              "    <tr>\n",
              "      <th>...</th>\n",
              "      <td>...</td>\n",
              "      <td>...</td>\n",
              "      <td>...</td>\n",
              "      <td>...</td>\n",
              "    </tr>\n",
              "    <tr>\n",
              "      <th>110770</th>\n",
              "      <td>aahna e mall oneblad hybrid trimmer shaver edg...</td>\n",
              "      <td>p 1 one hyper advanc smart recharg razor preci...</td>\n",
              "      <td>uniqu one blade style trim shave keep skin fee...</td>\n",
              "      <td>gener</td>\n",
              "    </tr>\n",
              "    <tr>\n",
              "      <th>110771</th>\n",
              "      <td>grin health n99 anti pollut reusabl washabl ma...</td>\n",
              "      <td>p size guid 35 65 kg l 49 72 kg xl 75 kg p p b...</td>\n",
              "      <td>protect filtrat rate 99 percent small pm0 3 us...</td>\n",
              "      <td>grin health</td>\n",
              "    </tr>\n",
              "    <tr>\n",
              "      <th>110772</th>\n",
              "      <td>asian armi pink ultra reusabl respir cloth mas...</td>\n",
              "      <td>asian hyperprotect a95 mask engin 6 layer trip...</td>\n",
              "      <td>reusabl environ friendli mask washabl reusabl ...</td>\n",
              "      <td>asian</td>\n",
              "    </tr>\n",
              "    <tr>\n",
              "      <th>110773</th>\n",
              "      <td>im safe 3 pli non woven dispos surgic face mas...</td>\n",
              "      <td>3 pli dispos face mask manufactur use sitra ce...</td>\n",
              "      <td>3 pli mask genuin 3 pli mask 25 gsm spun bond ...</td>\n",
              "      <td>intermarket</td>\n",
              "    </tr>\n",
              "    <tr>\n",
              "      <th>110774</th>\n",
              "      <td>artifi 100 cotton unisex reusabl breathabl was...</td>\n",
              "      <td>materi cotton print cotton thread soft stretch...</td>\n",
              "      <td>eco friendli reusabl cotton mask face ajrak co...</td>\n",
              "      <td>artifi</td>\n",
              "    </tr>\n",
              "  </tbody>\n",
              "</table>\n",
              "<p>110775 rows × 4 columns</p>\n",
              "</div>"
            ],
            "text/plain": [
              "                                                    TITLE  ...          BRAND\n",
              "0       command 3m small kitchen hook white decor dama...  ...        command\n",
              "1       neal jump hardwar jag unisex adult glove black...  ...           neal\n",
              "2         nfl detroit lion portabl parti fridg 15 8 quart  ...  boelter brand\n",
              "3          panason singl line kx ts880mx cord phone white  ...        panason\n",
              "4       zero babi girl 100 cotton innerwear bloomer dr...  ...           zero\n",
              "...                                                   ...  ...            ...\n",
              "110770  aahna e mall oneblad hybrid trimmer shaver edg...  ...          gener\n",
              "110771  grin health n99 anti pollut reusabl washabl ma...  ...    grin health\n",
              "110772  asian armi pink ultra reusabl respir cloth mas...  ...          asian\n",
              "110773  im safe 3 pli non woven dispos surgic face mas...  ...    intermarket\n",
              "110774  artifi 100 cotton unisex reusabl breathabl was...  ...         artifi\n",
              "\n",
              "[110775 rows x 4 columns]"
            ]
          },
          "metadata": {
            "tags": []
          },
          "execution_count": 22
        }
      ]
    },
    {
      "cell_type": "code",
      "metadata": {
        "id": "ofXI4J_EKuim"
      },
      "source": [
        ""
      ],
      "execution_count": null,
      "outputs": []
    }
  ]
}